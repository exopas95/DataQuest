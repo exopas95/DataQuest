{
 "cells": [
  {
   "cell_type": "markdown",
   "metadata": {},
   "source": [
    "## Guided Project: Exploring Hacker News Posts\n",
    "\n",
    "**Hacker News** is a site started by the startup incubator Y Combinator, where user-submitted stories (known as \"posts\") are voted and commented upon, similar to reddit. Hacker News is extremely popular in technology and startup circles, and posts that make it to the top of Hacker News' listings can get hundreds of thousands of visitors as a result.\n",
    "\n",
    "You can find the data set here, but note that it has been reduced from almost 300,000 rows to approximately 20,000 rows by removing all submissions that did not receive any comments, and then randomly sampling from the remaining submissions. Below are descriptions of the columns:\n",
    "\n",
    "- id: The unique identifier from Hacker News for the post\n",
    "- title: The title of the post\n",
    "- url: The URL that the posts links to, if it the post has a URL\n",
    "- num_points: The number of points the post acquired, calculated as the total number of upvotes minus the total number of downvotes\n",
    "- num_comments: The number of comments that were made on the post\n",
    "- author: The username of the person who submitted the post\n",
    "- created_at: The date and time at which the post was submitted\n",
    "\n",
    "We're specifically interested in posts whose titles begin with either Ask HN or Show HN. Users submit Ask HN posts to ask the Hacker News community a specific question. Likewise, users submit Show HN posts to show the Hacker News community a project, product, or just generally something interesting.\n",
    "\n",
    "We'll compare these two types of posts to determine the following:\n",
    "\n",
    "- Do Ask HN or Show HN receive more comments on average?\n",
    "- Do posts created at a certain time receive more comments on average?"
   ]
  },
  {
   "cell_type": "markdown",
   "metadata": {},
   "source": [
    "### Removing Headers from a Lists of Lists\n",
    "1. Extract the first row of data, and assign it to the variable headers.\n",
    "2. Remove the first row from hn.\n",
    "3. Display headers.\n",
    "4. Display the first five rows of hn to verify that you removed the header row properly."
   ]
  },
  {
   "cell_type": "code",
   "execution_count": 11,
   "metadata": {},
   "outputs": [],
   "source": [
    "from csv import reader\n",
    "\n",
    "open_file = open(\"hacker_news.csv\", encoding=\"utf-8\")\n",
    "read_file = reader(open_file)\n",
    "hn = list(read_file)"
   ]
  },
  {
   "cell_type": "code",
   "execution_count": 12,
   "metadata": {},
   "outputs": [
    {
     "data": {
      "text/plain": [
       "['id', 'title', 'url', 'num_points', 'num_comments', 'author', 'created_at']"
      ]
     },
     "execution_count": 12,
     "metadata": {},
     "output_type": "execute_result"
    }
   ],
   "source": [
    "headers = hn[0]\n",
    "hn = hn[1:]\n",
    "headers"
   ]
  },
  {
   "cell_type": "markdown",
   "metadata": {},
   "source": [
    "### Extracting Ask HN and Show HN Posts\n",
    "1. Create three empty lists called ask_posts, show_posts, and other_posts.\n",
    "2. Loop through each row in hn.\n",
    "    - Assign the title in each row to a variable named title.\n",
    "        - Because the title column is the second column, you'll need to get the element at index 1 in each row.\n",
    "3. Implement the following steps:\n",
    "    - If the lowercase version of title starts with ask hn, append the row to ask_posts.\n",
    "    - Else if the lowercase version of title starts with show hn, append the row to show_posts.\n",
    "Else append to other_posts.\n",
    "4. Check the number of posts in ask_posts, show_posts, and other_posts"
   ]
  },
  {
   "cell_type": "code",
   "execution_count": 13,
   "metadata": {},
   "outputs": [],
   "source": [
    "ask_posts = []\n",
    "show_posts = []\n",
    "other_posts = []\n",
    "\n",
    "for element in hn:\n",
    "    title = element[1]\n",
    "    l_title = title.lower()\n",
    "    if l_title.startswith('ask hn'):\n",
    "        ask_posts.append(element)\n",
    "    elif l_title.startswith('show hn'):\n",
    "        show_posts.append(element)\n",
    "    else:\n",
    "        other_posts.append(element)"
   ]
  },
  {
   "cell_type": "markdown",
   "metadata": {},
   "source": [
    "### Calculating the Average Number of Comments for Ask HN and Show HN Posts\n",
    "\n",
    "1. Find the total number of comments in ask posts and assign it to total_ask_comments.\n",
    "    - Set total_ask_comments to 0.\n",
    "2. Use a for loop to iterate over the ask posts.\n",
    "    - Because the num_comments column is the fifth column in ask_posts, you'll need to get the element at index 4 in each row.\n",
    "        - You'll also need to convert the value to an integer so that we can calculate the sum of all the comments.\n",
    "        - Add this value to total_ask_comments.\n",
    "3. Compute the average number of comments on ask posts and assign it to avg_ask_comments.\n",
    "4. Print avg_ask_comments.\n",
    "5. Find the total number of comments in show posts and assign it to total_show_comments.\n",
    "    - Set total_show_comments to 0.\n",
    "6. Use a for loop to iterate over the show posts.\n",
    "    - Because the num_comments column is the fifth column in show_posts, you'll need to get the element at index 4 in each row.\n",
    "        - You'll also need to convert the value to an integer so that we can calculate the sum of all the comments.\n",
    "        - Add this value to total_show_comments.\n",
    "7. Compute the average number of comments on show posts and assign it to avg_show_comments.\n",
    "8. Print avg_show_comments.\n",
    "9. Do show posts or ask posts receive more comments on average? Write a markdown cell explaining your findings."
   ]
  },
  {
   "cell_type": "code",
   "execution_count": 14,
   "metadata": {},
   "outputs": [
    {
     "name": "stdout",
     "output_type": "stream",
     "text": [
      "14.038417431192661\n",
      "10.31669535283993\n"
     ]
    }
   ],
   "source": [
    "total_ask_comments = 0\n",
    "for elements in ask_posts:\n",
    "    total_ask_comments += int(elements[4])\n",
    "avg_ask_comments = total_ask_comments / len(ask_posts)\n",
    "\n",
    "total_show_comments = 0\n",
    "for elements in show_posts:\n",
    "    total_show_comments += int(elements[4])\n",
    "avg_show_comments = total_show_comments / len(show_posts)\n",
    "\n",
    "print(avg_ask_comments)\n",
    "print(avg_show_comments)"
   ]
  },
  {
   "cell_type": "markdown",
   "metadata": {},
   "source": [
    "### Finding the Amount of Ask Posts and Comments by Hour Created\n",
    "\n",
    "1. Import the datetime module as dt.\n",
    "2. Create an empty list and assign it to result_list. This will be a list of 3. lists.\n",
    "3. Iterate over ask_posts and append to result_list a list with two elements:\n",
    "    - The first element shall be the column created_at.\n",
    "        - Because the created_at column is the seventh column in ask_posts, you'll need to get the element at index 6 in each row.\n",
    "    - The second element shall be the number of comments of the post.\n",
    "        - You'll also need to convert the value to an integer.\n",
    "4. Create two empty dictionaries called counts_by_hour and comments_by_hour.\n",
    "5. Loop through each row of result_list.\n",
    "6. Extract the hour from the date, which is the first element of the row.\n",
    "7. Use the datetime.strptime() method to parse the date and create a datetime object.\n",
    "8. Use the string we want to parse as the first argument and a string that specifies the format as the second argument.\n",
    "    - Use the datetime.strftime() method to select just the hour from the datetime object.\n",
    "    - If the hour isn't a key in counts_by_hour:\n",
    "        - Create the key in counts_by_hour and set it equal to 1.\n",
    "        - Create the key in comments_by_hour and set it equal to the comment number.\n",
    "    - If the hour is already a key in counts_by_hour:\n",
    "        - Increment the value in counts_by_hour by 1.\n",
    "        - Increment the value in comments_by_hour by the comment number."
   ]
  },
  {
   "cell_type": "code",
   "execution_count": 17,
   "metadata": {},
   "outputs": [],
   "source": [
    "import datetime as dt\n",
    "\n",
    "result_list = []\n",
    "for element in ask_posts:\n",
    "    result_list.append([element[6], int(element[4])])\n",
    "    \n",
    "counts_by_hour = {}\n",
    "comments_by_hour = {}\n",
    "\n",
    "for element in result_list:\n",
    "    time = dt.datetime.strptime(element[0], \"%m/%d/%Y %H:%M\")\n",
    "    hour = dt.datetime.strftime(time, \"%H\")\n",
    "    if hour in counts_by_hour:\n",
    "        counts_by_hour[hour] += 1\n",
    "        comments_by_hour[hour] += int(element[1])\n",
    "    else:\n",
    "        counts_by_hour[hour] = 1\n",
    "        comments_by_hour[hour] = int(element[1])"
   ]
  },
  {
   "cell_type": "markdown",
   "metadata": {},
   "source": [
    "### Calculating the Average Number of Comments for Ask HN Posts by Hour\n",
    "\n",
    "Next, we'll use these two dictionaries to calculate the average number of comments for posts created during each hour of the day.<br>\n",
    "\n",
    "1. Use the example above to calculate the average number of comments per post for posts created during each hour of the day.\n",
    "2. The result should be a list of lists in which the first element is the hour and the second element is the average number of comments per post. Assign the result to a variable named avg_by_hour. Display the results."
   ]
  },
  {
   "cell_type": "code",
   "execution_count": 19,
   "metadata": {},
   "outputs": [],
   "source": [
    "avg_by_hour = []\n",
    "for element in counts_by_hour:\n",
    "    avg_by_hour.append([element, comments_by_hour[element]/counts_by_hour[element]])"
   ]
  },
  {
   "cell_type": "markdown",
   "metadata": {},
   "source": [
    "### Sorting and Printing Values from a List of Lists\n",
    "Although we now have the results we need, this format makes it hard to identify the hours with the highest values. Let's finish by sorting the list of lists and printing the five highest values in a format that's easier to read.<br>\n",
    "\n",
    "1. Create a list that equals avg_by_hour with swapped columns.\n",
    "    - Create an empty list and assign it to swap_avg_by_hour.\n",
    "    - Iterate over the rows of avg_by_hour and append to swap_avg_by_hour a list whose first element is the second element of the row, and whose second element is the first element of the row.\n",
    "2. Print swap_avg_by_hour.\n",
    "3. Use the sorted() function to sort swap_avg_by_hour in descending order. Since the first column of this list is the average number of comments, sorting the list will sort by the average number of comments.\n",
    "    - Set the reverse argument to True, so that the highest value in the first column appears first in the list.\n",
    "    - Assign the result to sorted_swap.\n",
    "4. Print the string \"Top 5 Hours for Ask Posts Comments\".\n",
    "5. Loop through each average and each hour (in this order) in the first five lists of sorted_swap.\n",
    "6. Use the str.format() method to print the hour and average in the following format: 15:00: 38.59 average comments per post.\n",
    "    - To format the hours, use the datetime.strptime() constructor to return a datetime object and then use the strftime() method to specify the format of the time.\n",
    "    - To format the average, you can use {:.2f} to indicate that just two decimal places should be used.\n",
    "7. Which hours should you create a post during to have a higher chance of receiving comments? Refer back to the documentation for the data set to convert the times to the time zone you live in. Write a markdown cell explaining your findings."
   ]
  },
  {
   "cell_type": "code",
   "execution_count": 20,
   "metadata": {},
   "outputs": [
    {
     "name": "stdout",
     "output_type": "stream",
     "text": [
      "Top 5 Hours for Ask Posts Comments\n",
      "15:00: 38.59 average comments per post\n",
      "02:00: 23.81 average comments per post\n",
      "20:00: 21.52 average comments per post\n",
      "16:00: 16.80 average comments per post\n",
      "21:00: 16.01 average comments per post\n"
     ]
    }
   ],
   "source": [
    "swap_avg_by_hour = []\n",
    "for element in avg_by_hour:\n",
    "    swap_avg_by_hour.append([element[1], element[0]])\n",
    "sorted_swap = sorted(swap_avg_by_hour, reverse=True)\n",
    "print(\"Top 5 Hours for Ask Posts Comments\")\n",
    "for i in range(0, 5):\n",
    "    print(\"{0}: {1:.2f} average comments per post\".format(dt.datetime.strftime(dt.datetime.strptime(sorted_swap[i][1], \"%H\"), \"%H:00\"), sorted_swap[i][0])\n",
    ")    "
   ]
  }
 ],
 "metadata": {
  "kernelspec": {
   "display_name": "Python 3",
   "language": "python",
   "name": "python3"
  },
  "language_info": {
   "codemirror_mode": {
    "name": "ipython",
    "version": 3
   },
   "file_extension": ".py",
   "mimetype": "text/x-python",
   "name": "python",
   "nbconvert_exporter": "python",
   "pygments_lexer": "ipython3",
   "version": "3.7.1"
  }
 },
 "nbformat": 4,
 "nbformat_minor": 4
}
