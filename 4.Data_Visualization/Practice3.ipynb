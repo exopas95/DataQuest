{
 "cells": [
  {
   "cell_type": "markdown",
   "metadata": {},
   "source": [
    "1. Introduction to data"
   ]
  },
  {
   "cell_type": "code",
   "execution_count": 1,
   "metadata": {},
   "outputs": [
    {
     "name": "stdout",
     "output_type": "stream",
     "text": [
      "                             FILM  RT_user_norm  Metacritic_user_nom  \\\n",
      "0  Avengers: Age of Ultron (2015)           4.3                 3.55   \n",
      "\n",
      "   IMDB_norm  Fandango_Ratingvalue  Fandango_Stars  \n",
      "0        3.9                   4.5             5.0  \n"
     ]
    }
   ],
   "source": [
    "import pandas as pd\n",
    "reviews = pd.read_csv(\"fandango_scores.csv\")\n",
    "cols = [\"FILM\", \"RT_user_norm\", \"Metacritic_user_nom\", \"IMDB_norm\", \"Fandango_Ratingvalue\", \"Fandango_Stars\"]\n",
    "norm_reviews = reviews[cols]\n",
    "print(norm_reviews[:1])"
   ]
  },
  {
   "cell_type": "code",
   "execution_count": null,
   "metadata": {},
   "outputs": [],
   "source": []
  }
 ],
 "metadata": {
  "kernelspec": {
   "display_name": "Python 3",
   "language": "python",
   "name": "python3"
  },
  "language_info": {
   "codemirror_mode": {
    "name": "ipython",
    "version": 3
   },
   "file_extension": ".py",
   "mimetype": "text/x-python",
   "name": "python",
   "nbconvert_exporter": "python",
   "pygments_lexer": "ipython3",
   "version": "3.7.6"
  }
 },
 "nbformat": 4,
 "nbformat_minor": 2
}
