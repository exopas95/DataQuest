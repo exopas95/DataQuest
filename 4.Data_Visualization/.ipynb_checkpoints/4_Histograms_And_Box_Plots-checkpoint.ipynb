{
 "cells": [
  {
   "cell_type": "markdown",
   "metadata": {},
   "source": [
    "<H3>Historgrams And Box Plots<H3>"
   ]
  },
  {
   "cell_type": "markdown",
   "metadata": {},
   "source": [
    "1. Introduction"
   ]
  },
  {
   "cell_type": "code",
   "execution_count": 2,
   "metadata": {},
   "outputs": [
    {
     "name": "stdout",
     "output_type": "stream",
     "text": [
      "                             FILM  RT_user_norm  Metacritic_user_nom  \\\n",
      "0  Avengers: Age of Ultron (2015)           4.3                 3.55   \n",
      "1               Cinderella (2015)           4.0                 3.75   \n",
      "2                  Ant-Man (2015)           4.5                 4.05   \n",
      "3          Do You Believe? (2015)           4.2                 2.35   \n",
      "4   Hot Tub Time Machine 2 (2015)           1.4                 1.70   \n",
      "\n",
      "   IMDB_norm  Fandango_Ratingvalue  \n",
      "0       3.90                   4.5  \n",
      "1       3.55                   4.5  \n",
      "2       3.90                   4.5  \n",
      "3       2.70                   4.5  \n",
      "4       2.55                   3.0  \n"
     ]
    }
   ],
   "source": [
    "import pandas as pd\n",
    "import matplotlib.pyplot as plt\n",
    "reviews = pd.read_csv('fandango_scores.csv')\n",
    "cols = ['FILM', 'RT_user_norm', 'Metacritic_user_nom', 'IMDB_norm', 'Fandango_Ratingvalue']\n",
    "norm_reviews = reviews[cols]\n",
    "print(norm_reviews[:5])"
   ]
  },
  {
   "cell_type": "markdown",
   "metadata": {},
   "source": [
    "2. Frequency Distribution"
   ]
  },
  {
   "cell_type": "code",
   "execution_count": 5,
   "metadata": {},
   "outputs": [
    {
     "name": "stdout",
     "output_type": "stream",
     "text": [
      "2.7     2\n",
      "2.8     2\n",
      "2.9     5\n",
      "3.0     4\n",
      "3.1     3\n",
      "3.2     5\n",
      "3.3     4\n",
      "3.4     9\n",
      "3.5     9\n",
      "3.6     8\n",
      "3.7     9\n",
      "3.8     5\n",
      "3.9    12\n",
      "4.0     7\n",
      "4.1    16\n",
      "4.2    12\n",
      "4.3    11\n",
      "4.4     7\n",
      "4.5     9\n",
      "4.6     4\n",
      "4.8     3\n",
      "Name: Fandango_Ratingvalue, dtype: int64\n",
      "2.00     1\n",
      "2.10     1\n",
      "2.15     1\n",
      "2.20     1\n",
      "2.30     2\n",
      "2.45     2\n",
      "2.50     1\n",
      "2.55     1\n",
      "2.60     2\n",
      "2.70     4\n",
      "2.75     5\n",
      "2.80     2\n",
      "2.85     1\n",
      "2.90     1\n",
      "2.95     3\n",
      "3.00     2\n",
      "3.05     4\n",
      "3.10     1\n",
      "3.15     9\n",
      "3.20     6\n",
      "3.25     4\n",
      "3.30     9\n",
      "3.35     7\n",
      "3.40     1\n",
      "3.45     7\n",
      "3.50     4\n",
      "3.55     7\n",
      "3.60    10\n",
      "3.65     5\n",
      "3.70     8\n",
      "3.75     6\n",
      "3.80     3\n",
      "3.85     4\n",
      "3.90     9\n",
      "3.95     2\n",
      "4.00     1\n",
      "4.05     1\n",
      "4.10     4\n",
      "4.15     1\n",
      "4.20     2\n",
      "4.30     1\n",
      "Name: IMDB_norm, dtype: int64\n"
     ]
    }
   ],
   "source": [
    "fandango_freq_count = norm_reviews['Fandango_Ratingvalue'].value_counts()\n",
    "fandango_distribution = fandango_freq_count.sort_index()\n",
    "\n",
    "IMDB_freq_count = norm_reviews['IMDB_norm'].value_counts()\n",
    "imdb_distribution = IMDB_freq_count.sort_index()\n",
    "\n",
    "print(fandango_distribution)\n",
    "print(imdb_distribution)"
   ]
  },
  {
   "cell_type": "markdown",
   "metadata": {},
   "source": [
    "3. Binning"
   ]
  },
  {
   "cell_type": "code",
   "execution_count": null,
   "metadata": {},
   "outputs": [],
   "source": []
  },
  {
   "cell_type": "markdown",
   "metadata": {},
   "source": [
    "4. Histogram in Matplotlib"
   ]
  },
  {
   "cell_type": "code",
   "execution_count": 8,
   "metadata": {
    "scrolled": true
   },
   "outputs": [
    {
     "data": {
      "text/plain": [
       "<function matplotlib.pyplot.show(*args, **kw)>"
      ]
     },
     "execution_count": 8,
     "metadata": {},
     "output_type": "execute_result"
    },
    {
     "data": {
      "image/png": "[encoded data removed]",
      "text/plain": [
       "<Figure size 432x288 with 1 Axes>"
      ]
     },
     "metadata": {
      "needs_background": "light"
     },
     "output_type": "display_data"
    }
   ],
   "source": [
    "fig, ax = plt.subplots()\n",
    "ax.hist(norm_reviews[\"Fandango_Ratingvalue\"], range=(0, 5))\n",
    "plt.show"
   ]
  },
  {
   "cell_type": "markdown",
   "metadata": {},
   "source": [
    "5. Comparing histograms"
   ]
  },
  {
   "cell_type": "code",
   "execution_count": 7,
   "metadata": {},
   "outputs": [
    {
     "data": {
      "image/png": "[encoded data removed]",
      "text/plain": [
       "<Figure size 360x1440 with 4 Axes>"
      ]
     },
     "metadata": {
      "needs_background": "light"
     },
     "output_type": "display_data"
    }
   ],
   "source": [
    "fig = plt.figure(figsize=(5,20))\n",
    "ax1 = fig.add_subplot(4,1,1)\n",
    "ax2 = fig.add_subplot(4,1,2)\n",
    "ax3 = fig.add_subplot(4,1,3)\n",
    "ax4 = fig.add_subplot(4,1,4)\n",
    "ax1.hist(norm_reviews['Fandango_Ratingvalue'], bins=20, range=(0, 5))\n",
    "ax1.set_title('Distribution of Fandango Ratings')\n",
    "ax1.set_ylim(0, 50)\n",
    "\n",
    "ax2.hist(norm_reviews['RT_user_norm'], 20, range=(0, 5))\n",
    "ax2.set_title('Distribution of Rotten Tomatoes Ratings')\n",
    "ax2.set_ylim(0, 50)\n",
    "\n",
    "ax3.hist(norm_reviews['Metacritic_user_nom'], 20, range=(0, 5))\n",
    "ax3.set_title('Distribution of Metacritic Ratings')\n",
    "ax3.set_ylim(0, 50)\n",
    "\n",
    "ax4.hist(norm_reviews['IMDB_norm'], 20, range=(0, 5))\n",
    "ax4.set_title('Distribution of IMDB Ratings')\n",
    "ax4.set_ylim(0, 50)\n",
    "\n",
    "plt.show()"
   ]
  },
  {
   "cell_type": "markdown",
   "metadata": {},
   "source": [
    "6. Quartiles"
   ]
  },
  {
   "cell_type": "code",
   "execution_count": null,
   "metadata": {},
   "outputs": [],
   "source": []
  },
  {
   "cell_type": "markdown",
   "metadata": {},
   "source": [
    "7. Box Plot"
   ]
  },
  {
   "cell_type": "code",
   "execution_count": 9,
   "metadata": {},
   "outputs": [
    {
     "data": {
      "image/png": "[encoded data removed]",
      "text/plain": [
       "<Figure size 432x288 with 1 Axes>"
      ]
     },
     "metadata": {
      "needs_background": "light"
     },
     "output_type": "display_data"
    }
   ],
   "source": [
    "fig, ax = plt.subplots()\n",
    "ax.boxplot(norm_reviews['RT_user_norm'])\n",
    "ax.set_xticklabels(['Rotten Tomatoes'])\n",
    "ax.set_ylim(0, 5)\n",
    "plt.show()"
   ]
  },
  {
   "cell_type": "markdown",
   "metadata": {},
   "source": [
    "8. Multiple Box Plots"
   ]
  },
  {
   "cell_type": "code",
   "execution_count": 12,
   "metadata": {},
   "outputs": [
    {
     "data": {
      "image/png": "[encoded data removed]",
      "text/plain": [
       "<Figure size 432x288 with 1 Axes>"
      ]
     },
     "metadata": {
      "needs_background": "light"
     },
     "output_type": "display_data"
    }
   ],
   "source": [
    "num_cols = ['RT_user_norm', 'Metacritic_user_nom', 'IMDB_norm', 'Fandango_Ratingvalue']\n",
    "fig, ax = plt.subplots()\n",
    "ax.boxplot(norm_reviews[num_cols].values)\n",
    "ax.set_xticklabels(num_cols, rotation=90)\n",
    "ax.set_ylim(0,5)\n",
    "plt.show()"
   ]
  },
  {
   "cell_type": "code",
   "execution_count": null,
   "metadata": {},
   "outputs": [],
   "source": []
  }
 ],
 "metadata": {
  "kernelspec": {
   "display_name": "Python 3",
   "language": "python",
   "name": "python3"
  },
  "language_info": {
   "codemirror_mode": {
    "name": "ipython",
    "version": 3
   },
   "file_extension": ".py",
   "mimetype": "text/x-python",
   "name": "python",
   "nbconvert_exporter": "python",
   "pygments_lexer": "ipython3",
   "version": "3.7.4"
  }
 },
 "nbformat": 4,
 "nbformat_minor": 2
}
