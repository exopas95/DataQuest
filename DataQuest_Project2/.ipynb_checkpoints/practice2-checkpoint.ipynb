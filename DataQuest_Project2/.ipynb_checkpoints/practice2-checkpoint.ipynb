{
 "cells": [
  {
   "cell_type": "markdown",
   "metadata": {},
   "source": [
    "Reading MOMA Data Set"
   ]
  },
  {
   "cell_type": "code",
   "execution_count": 1,
   "metadata": {},
   "outputs": [],
   "source": [
    "from csv import reader\n",
    "\n",
    "# Read the `artworks_clean.csv` file\n",
    "opened_file = open('artworks_clean.csv')\n",
    "read_file = reader(opened_file)\n",
    "moma = list(read_file)\n",
    "moma = moma[1:]\n",
    "\n",
    "# Convert the birthdate values\n",
    "for row in moma:\n",
    "    birth_date = row[3]\n",
    "    if birth_date != \"\":\n",
    "        birth_date = int(birth_date)\n",
    "    row[3] = birth_date\n",
    "    \n",
    "# Convert the death date values\n",
    "for row in moma:\n",
    "    death_date = row[4]\n",
    "    if death_date != \"\":\n",
    "        death_date = int(death_date)\n",
    "    row[4] = death_date\n",
    "\n",
    "# Write your code below\n",
    "for row in moma:\n",
    "    date = row[6]\n",
    "    if date != \"\":\n",
    "        date = int(date)\n",
    "    row[6] = date"
   ]
  },
  {
   "cell_type": "markdown",
   "metadata": {},
   "source": [
    "Calculating Artist Ages"
   ]
  },
  {
   "cell_type": "code",
   "execution_count": 2,
   "metadata": {},
   "outputs": [],
   "source": [
    "ages = []\n",
    "\n",
    "for row in moma:\n",
    "    date = row[6]\n",
    "    birth = row[3]\n",
    "    temp_num = 1\n",
    "    \n",
    "    if type(birth) == type(temp_num):\n",
    "        age = date - birth\n",
    "    else:\n",
    "        age = 0\n",
    "    \n",
    "    ages.append(age)\n",
    "\n",
    "final_ages = []\n",
    "for num in ages:\n",
    "    if num > 20:\n",
    "        final_age = num\n",
    "    else:\n",
    "        final_age = \"Unknown\"\n",
    "    \n",
    "    final_ages.append(final_age)"
   ]
  },
  {
   "cell_type": "markdown",
   "metadata": {},
   "source": [
    "Converting Ages to Decades"
   ]
  },
  {
   "cell_type": "code",
   "execution_count": 3,
   "metadata": {},
   "outputs": [],
   "source": [
    "# The final_ages variable is available\n",
    "# from the previous screen\n",
    "decades = []\n",
    "\n",
    "for num in final_ages:\n",
    "    if num == \"Unknown\":\n",
    "        decade = num\n",
    "    else:\n",
    "        decade = str(num)\n",
    "        decade = decade[:-1] + \"0s\"\n",
    "    decades.append(decade)"
   ]
  },
  {
   "cell_type": "markdown",
   "metadata": {},
   "source": [
    "Summarizing the Decade Data"
   ]
  },
  {
   "cell_type": "code",
   "execution_count": 4,
   "metadata": {},
   "outputs": [],
   "source": [
    "# The decades variable is available\n",
    "# from the previous screen\n",
    "\n",
    "decade_frequency = {}\n",
    "\n",
    "for value in decades:\n",
    "    if value in decade_frequency:\n",
    "        decade_frequency[value] += 1\n",
    "    else:\n",
    "        decade_frequency[value] = 1"
   ]
  },
  {
   "cell_type": "markdown",
   "metadata": {},
   "source": [
    "Inserting Variables Into Strings"
   ]
  },
  {
   "cell_type": "code",
   "execution_count": 5,
   "metadata": {},
   "outputs": [
    {
     "name": "stdout",
     "output_type": "stream",
     "text": [
      "Pablo Picasso's birth year is 1881\n"
     ]
    }
   ],
   "source": [
    "artist = \"Pablo Picasso\"\n",
    "birth_year = 1881\n",
    "\n",
    "string = \"{}'s birth year is {}\".format(artist, birth_year)\n",
    "print(string)"
   ]
  },
  {
   "cell_type": "markdown",
   "metadata": {},
   "source": [
    "Creating an Artist Frequency Table"
   ]
  },
  {
   "cell_type": "code",
   "execution_count": 6,
   "metadata": {},
   "outputs": [],
   "source": [
    "artist_freq = {}\n",
    "\n",
    "for row in moma:\n",
    "    artist = row[1]\n",
    "    if artist in artist_freq:\n",
    "        artist_freq[artist] += 1\n",
    "    else:\n",
    "        artist_freq[artist] = 1"
   ]
  },
  {
   "cell_type": "markdown",
   "metadata": {},
   "source": [
    "Creating an Artist Summary Function"
   ]
  },
  {
   "cell_type": "code",
   "execution_count": 7,
   "metadata": {},
   "outputs": [
    {
     "name": "stdout",
     "output_type": "stream",
     "text": [
      "There are 129 artworks by Henri Matisse in the data set\n"
     ]
    }
   ],
   "source": [
    "def artist_summary(name):\n",
    "    n_artwork = artist_freq[name]\n",
    "    string = \"There are {} artworks by {} in the data set\".format(n_artwork, name)\n",
    "    print(string)\n",
    "\n",
    "artist_summary(\"Henri Matisse\")"
   ]
  },
  {
   "cell_type": "markdown",
   "metadata": {},
   "source": [
    "Formatting Number s Inside Strings"
   ]
  },
  {
   "cell_type": "code",
   "execution_count": 8,
   "metadata": {},
   "outputs": [
    {
     "name": "stdout",
     "output_type": "stream",
     "text": [
      "The population of China is 1,379.30 million\n",
      "The population of India is 1,281.94 million\n",
      "The population of USA is 326.63 million\n",
      "The population of Indonesia is 260.58 million\n",
      "The population of Brazil is 207.35 million\n"
     ]
    }
   ],
   "source": [
    "pop_millions = [\n",
    "    [\"China\", 1379.302771],\n",
    "    [\"India\", 1281.935991],\n",
    "    [\"USA\",  326.625791],\n",
    "    [\"Indonesia\",  260.580739],\n",
    "    [\"Brazil\",  207.353391],\n",
    "]\n",
    "\n",
    "for row in pop_millions:\n",
    "    c_name = row[0]\n",
    "    c_pop = row[1]\n",
    "    \n",
    "    temp_string = \"The population of {0} is {1:,.2f} million\".format(c_name, c_pop)\n",
    "    print(temp_string)"
   ]
  },
  {
   "cell_type": "markdown",
   "metadata": {},
   "source": [
    "Summarizing Artwork Gender Data"
   ]
  },
  {
   "cell_type": "code",
   "execution_count": 10,
   "metadata": {},
   "outputs": [
    {
     "name": "stdout",
     "output_type": "stream",
     "text": [
      "There are 2,443 artworks by Female artists\n",
      "There are 13,492 artworks by Male artists\n",
      "There are 794 artworks by Gender Unknown/Other artists\n"
     ]
    }
   ],
   "source": [
    "Gender = {}\n",
    "\n",
    "for row in moma:\n",
    "    gender = row[5]\n",
    "    if gender in Gender:\n",
    "        Gender[gender] += 1\n",
    "    else:\n",
    "        Gender[gender] = 1\n",
    "        \n",
    "for row in Gender:\n",
    "    string = \"There are {0:,} artworks by {1} artists\".format(int(Gender[row]), row)\n",
    "    print(string)"
   ]
  },
  {
   "cell_type": "code",
   "execution_count": null,
   "metadata": {},
   "outputs": [],
   "source": []
  }
 ],
 "metadata": {
  "kernelspec": {
   "display_name": "Python 3",
   "language": "python",
   "name": "python3"
  },
  "language_info": {
   "codemirror_mode": {
    "name": "ipython",
    "version": 3
   },
   "file_extension": ".py",
   "mimetype": "text/x-python",
   "name": "python",
   "nbconvert_exporter": "python",
   "pygments_lexer": "ipython3",
   "version": "3.6.9"
  }
 },
 "nbformat": 4,
 "nbformat_minor": 2
}
