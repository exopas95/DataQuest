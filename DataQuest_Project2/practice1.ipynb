{
 "cells": [
  {
   "cell_type": "markdown",
   "metadata": {},
   "source": [
    "1. Introducing to Data Cleaning.\n",
    "\n",
    "Knowledge of nested list"
   ]
  },
  {
   "cell_type": "code",
   "execution_count": 1,
   "metadata": {},
   "outputs": [],
   "source": [
    "from csv import reader \n",
    "open_file = open('artworks.csv')\n",
    "read_file = reader(open_file)\n",
    "moma = list(read_file)\n",
    "moma = moma[1:]"
   ]
  },
  {
   "cell_type": "markdown",
   "metadata": {},
   "source": [
    "Moma's Data explanation\n",
    "\n",
    "\n",
    "    Title: The title of the artwork.\n",
    "    Artist: The name of the artist who created the artwork.\n",
    "    Nationality: The nationality of the artist.\n",
    "    BeginDate: The year in which the artist was born.\n",
    "    EndDate: The year in which the artist died.\n",
    "    Gender: The gender of the artist.\n",
    "    Date: The date that the artwork was created.\n",
    "    Department: The department inside MoMA to which the artwork belongs.\n"
   ]
  },
  {
   "cell_type": "markdown",
   "metadata": {},
   "source": [
    "str.replace() method"
   ]
  },
  {
   "cell_type": "code",
   "execution_count": 2,
   "metadata": {},
   "outputs": [
    {
     "name": "stdout",
     "output_type": "stream",
     "text": [
      "I am thirty-two years old\n"
     ]
    }
   ],
   "source": [
    "age1 = \"I am thirty-one years old\"\n",
    "age2 = age1.replace('one', 'two')\n",
    "print(age2)"
   ]
  },
  {
   "cell_type": "markdown",
   "metadata": {},
   "source": [
    "Cleaning nationality and gender columns\n",
    "-> removing '(', ')' from the data"
   ]
  },
  {
   "cell_type": "code",
   "execution_count": 3,
   "metadata": {},
   "outputs": [],
   "source": [
    "for content in moma:\n",
    "    #Cleaning Nationality Column\n",
    "    content[2] = content[2].replace('(', \"\")\n",
    "    content[2] = content[2].replace(')', \"\")\n",
    "    \n",
    "    #Cleaning Gender Column\n",
    "    content[5] = content[5].replace('(', \"\")\n",
    "    content[5] = content[5].replace(')', \"\")"
   ]
  },
  {
   "cell_type": "markdown",
   "metadata": {},
   "source": [
    "String Capitalization"
   ]
  },
  {
   "cell_type": "code",
   "execution_count": 4,
   "metadata": {},
   "outputs": [],
   "source": [
    "for row in moma:\n",
    "    # fix the capitalization and missing\n",
    "    # values for the gender column\n",
    "    gender = row[5]\n",
    "    gender = gender.title()\n",
    "    if not gender:\n",
    "        gender = \"Gender Unknown/Other\"\n",
    "    row[5] = gender\n",
    "\n",
    "    # fix the capitalization and missing\n",
    "    # values for the nationality column\n",
    "    nationality = row[2]\n",
    "    nationality = nationality.title()\n",
    "    if not nationality:\n",
    "        nationality = \"Nationality Unknown\"\n",
    "    row[2] = nationality"
   ]
  },
  {
   "cell_type": "markdown",
   "metadata": {},
   "source": [
    "Errors during Data Cleaning"
   ]
  },
  {
   "cell_type": "code",
   "execution_count": 5,
   "metadata": {},
   "outputs": [],
   "source": [
    "def clean_and_convert(date):\n",
    "    # check that we don't have an empty string\n",
    "    if date != \"\":\n",
    "        # move the rest of the function inside\n",
    "        # the if statement\n",
    "        date = date.replace(\"(\", \"\")\n",
    "        date = date.replace(\")\", \"\")\n",
    "        date = int(date)\n",
    "    return date\n",
    "\n",
    "for row in moma:\n",
    "    BeginDate = row[3]\n",
    "    EndDate = row[4]\n",
    "    row[3] = clean_and_convert(BeginDate)\n",
    "    row[4] = clean_and_convert(EndDate)"
   ]
  },
  {
   "cell_type": "markdown",
   "metadata": {},
   "source": [
    "Parsing numbers from Complex strings"
   ]
  },
  {
   "cell_type": "code",
   "execution_count": 7,
   "metadata": {},
   "outputs": [],
   "source": [
    "test_data = [\"1912\", \"1929\", \"1913-1923\",\n",
    "             \"(1951)\", \"1994\", \"1934\",\n",
    "             \"c. 1915\", \"1995\", \"c. 1912\",\n",
    "             \"(1988)\", \"2002\", \"1957-1959\",\n",
    "             \"c. 1955.\", \"c. 1970's\", \n",
    "             \"C. 1990-1999\"]\n",
    "\n",
    "bad_chars = [\"(\",\")\",\"c\",\"C\",\".\",\"s\",\"'\", \" \"]\n",
    "\n",
    "def strip_characters(string):\n",
    "    for char in bad_chars:\n",
    "        string = string.replace(char,\"\")\n",
    "    return string\n",
    "\n",
    "stripped_test_data = ['1912', '1929', '1913-1923',\n",
    "                      '1951', '1994', '1934',\n",
    "                      '1915', '1995', '1912',\n",
    "                      '1988', '2002', '1957-1959',\n",
    "                      '1955', '1970', '1990-1999']\n",
    "\n",
    "def process_data(string):\n",
    "    if '-' in string:\n",
    "        string = string.split('-')\n",
    "        result = round((float(string[0]) + float(string[1])) / 2)\n",
    "    else:\n",
    "        result = int(string)\n",
    "    return result\n",
    "\n",
    "processed_test_data = []\n",
    "\n",
    "for value in stripped_test_data:\n",
    "    processed_test_data.append(process_data(value))\n",
    "\n",
    "for row in moma:\n",
    "    temp_result = strip_characters(row[6])\n",
    "    temp_result = process_data(temp_result)\n",
    "    row[6] = temp_result"
   ]
  },
  {
   "cell_type": "code",
   "execution_count": null,
   "metadata": {},
   "outputs": [],
   "source": []
  }
 ],
 "metadata": {
  "kernelspec": {
   "display_name": "Python 3",
   "language": "python",
   "name": "python3"
  },
  "language_info": {
   "codemirror_mode": {
    "name": "ipython",
    "version": 3
   },
   "file_extension": ".py",
   "mimetype": "text/x-python",
   "name": "python",
   "nbconvert_exporter": "python",
   "pygments_lexer": "ipython3",
   "version": "3.6.9"
  }
 },
 "nbformat": 4,
 "nbformat_minor": 2
}
