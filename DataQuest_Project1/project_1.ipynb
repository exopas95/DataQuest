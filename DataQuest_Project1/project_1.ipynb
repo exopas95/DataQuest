{
 "cells": [
  {
   "cell_type": "markdown",
   "metadata": {},
   "source": [
    "Profitable App Profiles for the App Store and Google Play Markets"
   ]
  },
  {
   "cell_type": "markdown",
   "metadata": {},
   "source": [
    "Our aim in this project is to find mobile app profiles that are profitable for the App Store and Google Play markets. We're working as data analysts for a company that builds Android and iOS mobile apps, and our job is to enable our team of developers to make data-driven decisions with respect to the kind of apps they build.\n",
    "\n",
    "At our company, we only build apps that are free to download and install, and our main source of revenue consists of in-app ads. This means that our revenue for any given app is mostly influenced by the number of users that use our app. Our goal for this project is to analyze data to help our developers understand what kinds of apps are likely to attract more users."
   ]
  },
  {
   "cell_type": "markdown",
   "metadata": {},
   "source": [
    "Opening and Exploring the Data"
   ]
  },
  {
   "cell_type": "markdown",
   "metadata": {},
   "source": [
    "As of September 2018, there were approximately 2 million iOS apps available on the App Store, and 2.1 million Android apps on Google Play.\n",
    "\n",
    "Collecting data for over four million apps requires a significant amount of time and money, so we'll try to analyze a sample of data instead. To avoid spending resources with collecting new data ourselves, we should first try to see whether we can find any relevant existing data at no cost. Luckily, these are two data sets that seem suitable for our purpose:\n",
    "\n",
    "    A data set containing data about approximately ten thousand Android apps from Google Play. You can download the data set directly from this link.\n",
    "    A data set containing data about approximately seven thousand iOS apps from the App Store. You can download the data set directly from this link.\n",
    "\n",
    "Let's start by opening the two data sets and then continue with exploring the data."
   ]
  },
  {
   "cell_type": "code",
   "execution_count": 1,
   "metadata": {},
   "outputs": [],
   "source": [
    "def explore_data(dataset, start, end, rows_and_columns=False):\n",
    "    dataset_slice = dataset[start:end]\n",
    "    for row in dataset_slice:\n",
    "        print(row)\n",
    "        print('\\n')\n",
    "        \n",
    "    if rows_and_columns:\n",
    "        print('Number of rows: ', len(dataset))\n",
    "        print('Number of columns: ', len(dataset[0]))"
   ]
  },
  {
   "cell_type": "code",
   "execution_count": 2,
   "metadata": {},
   "outputs": [],
   "source": [
    "from csv import reader\n",
    "\n",
    "open_file = open('/home/sewoong/DataQuest/Project_1/googleplaystore.csv')\n",
    "read_file = reader(open_file)\n",
    "android = list(read_file)\n",
    "android_header = android[0]\n",
    "android = android[1:]\n",
    "\n",
    "open_file = open('/home/sewoong/DataQuest/Project_1/AppleStore.csv')\n",
    "read_file = reader(open_file)\n",
    "apple = list(read_file)\n",
    "apple_header = apple[0]\n",
    "apple = apple[1:]"
   ]
  },
  {
   "cell_type": "markdown",
   "metadata": {},
   "source": [
    "data cleaning"
   ]
  },
  {
   "cell_type": "markdown",
   "metadata": {},
   "source": [
    "we only build apps that are free to download and install, and that are directed toward an English-speaking audience. This means that we'll need to:\n",
    "\n",
    "    Remove non-English apps like 爱奇艺PPS -《欢乐颂2》电视剧热播.\n",
    "    Remove apps that aren't free.\n",
    "\n",
    "The Google Play data set has a dedicated discussion section, and we can see that one of the discussions describes an error for a certain row: 10472"
   ]
  },
  {
   "cell_type": "code",
   "execution_count": 3,
   "metadata": {},
   "outputs": [],
   "source": [
    "del android[10472]"
   ]
  },
  {
   "cell_type": "markdown",
   "metadata": {},
   "source": [
    "delete dupicate dataset"
   ]
  },
  {
   "cell_type": "code",
   "execution_count": 4,
   "metadata": {},
   "outputs": [
    {
     "name": "stdout",
     "output_type": "stream",
     "text": [
      "Expected length:  9659\n",
      "Actual length:  9659\n"
     ]
    }
   ],
   "source": [
    "latest_apps = {}\n",
    "\n",
    "for app in android:\n",
    "    name = app[0]\n",
    "    n_reviews = float(app[3])\n",
    "    \n",
    "    if name in latest_apps and n_reviews > latest_apps[name]:\n",
    "        latest_apps[name] = n_reviews\n",
    "    elif name not in latest_apps:\n",
    "        latest_apps[name] = n_reviews\n",
    "        \n",
    "print('Expected length: ', len(android) - 1181)\n",
    "print('Actual length: ', len(latest_apps))"
   ]
  },
  {
   "cell_type": "code",
   "execution_count": 8,
   "metadata": {},
   "outputs": [],
   "source": [
    "android_clean = []\n",
    "already_added = []\n",
    "\n",
    "for app in android:\n",
    "    name = app[0]\n",
    "    n_reviews = float(app[3])\n",
    "    \n",
    "    if (latest_apps[name] == n_reviews) and (name not in already_added):\n",
    "        android_clean.append(app)\n",
    "        already_added.append(name)"
   ]
  },
  {
   "cell_type": "code",
   "execution_count": 9,
   "metadata": {},
   "outputs": [
    {
     "name": "stdout",
     "output_type": "stream",
     "text": [
      "['Photo Editor & Candy Camera & Grid & ScrapBook', 'ART_AND_DESIGN', '4.1', '159', '19M', '10,000+', 'Free', '0', 'Everyone', 'Art & Design', 'January 7, 2018', '1.0.0', '4.0.3 and up']\n",
      "\n",
      "\n",
      "['U Launcher Lite – FREE Live Cool Themes, Hide Apps', 'ART_AND_DESIGN', '4.7', '87510', '8.7M', '5,000,000+', 'Free', '0', 'Everyone', 'Art & Design', 'August 1, 2018', '1.2.4', '4.0.3 and up']\n",
      "\n",
      "\n",
      "['Sketch - Draw & Paint', 'ART_AND_DESIGN', '4.5', '215644', '25M', '50,000,000+', 'Free', '0', 'Teen', 'Art & Design', 'June 8, 2018', 'Varies with device', '4.2 and up']\n",
      "\n",
      "\n",
      "Number of rows:  9659\n",
      "Number of columns:  13\n"
     ]
    }
   ],
   "source": [
    "explore_data(android_clean, 0, 3, True)"
   ]
  },
  {
   "cell_type": "markdown",
   "metadata": {},
   "source": [
    "Removing Non-English Apps"
   ]
  },
  {
   "cell_type": "code",
   "execution_count": 25,
   "metadata": {},
   "outputs": [],
   "source": [
    "def defineEnglish(name):\n",
    "    tempCount = 0\n",
    "    for character in name:\n",
    "        if ord(character) > 127:\n",
    "            tempCount += 1\n",
    "     \n",
    "    if tempCount > 3:\n",
    "        return False\n",
    "    else:\n",
    "        return True"
   ]
  },
  {
   "cell_type": "code",
   "execution_count": 28,
   "metadata": {},
   "outputs": [
    {
     "name": "stdout",
     "output_type": "stream",
     "text": [
      "['Photo Editor & Candy Camera & Grid & ScrapBook', 'ART_AND_DESIGN', '4.1', '159', '19M', '10,000+', 'Free', '0', 'Everyone', 'Art & Design', 'January 7, 2018', '1.0.0', '4.0.3 and up']\n",
      "\n",
      "\n",
      "['U Launcher Lite – FREE Live Cool Themes, Hide Apps', 'ART_AND_DESIGN', '4.7', '87510', '8.7M', '5,000,000+', 'Free', '0', 'Everyone', 'Art & Design', 'August 1, 2018', '1.2.4', '4.0.3 and up']\n",
      "\n",
      "\n",
      "['Sketch - Draw & Paint', 'ART_AND_DESIGN', '4.5', '215644', '25M', '50,000,000+', 'Free', '0', 'Teen', 'Art & Design', 'June 8, 2018', 'Varies with device', '4.2 and up']\n",
      "\n",
      "\n",
      "Number of rows:  9614\n",
      "Number of columns:  13\n",
      "['284882215', 'Facebook', '389879808', 'USD', '0.0', '2974676', '212', '3.5', '3.5', '95.0', '4+', 'Social Networking', '37', '1', '29', '1']\n",
      "\n",
      "\n",
      "['389801252', 'Instagram', '113954816', 'USD', '0.0', '2161558', '1289', '4.5', '4.0', '10.23', '12+', 'Photo & Video', '37', '0', '29', '1']\n",
      "\n",
      "\n",
      "['529479190', 'Clash of Clans', '116476928', 'USD', '0.0', '2130805', '579', '4.5', '4.5', '9.24.12', '9+', 'Games', '38', '5', '18', '1']\n",
      "\n",
      "\n",
      "Number of rows:  7197\n",
      "Number of columns:  16\n"
     ]
    }
   ],
   "source": [
    "android_english = []\n",
    "apple_english = []\n",
    "\n",
    "for app in android_clean:\n",
    "    name = app[0]\n",
    "    if defineEnglish(name) == True:\n",
    "        android_english.append(app)\n",
    "        \n",
    "for app in apple:\n",
    "    name = app[0]\n",
    "    if defineEnglish(name) == True:\n",
    "        apple_english.append(app)\n",
    "        \n",
    "explore_data(android_english, 0, 3, True)\n",
    "explore_data(apple_english, 0, 3, True)"
   ]
  },
  {
   "cell_type": "code",
   "execution_count": 30,
   "metadata": {},
   "outputs": [
    {
     "name": "stdout",
     "output_type": "stream",
     "text": [
      "8864\n",
      "4056\n"
     ]
    }
   ],
   "source": [
    "android_free_app = []\n",
    "apple_free_app = []\n",
    "\n",
    "for value in android_english:\n",
    "    if value[7] == '0':\n",
    "        android_free_app.append(value)\n",
    "\n",
    "for value in apple_english:\n",
    "    if value[4] == '0.0':\n",
    "        apple_free_app.append(value)\n",
    "\n",
    "print(len(android_free_app))\n",
    "print(len(apple_free_app))"
   ]
  },
  {
   "cell_type": "code",
   "execution_count": 31,
   "metadata": {},
   "outputs": [],
   "source": [
    "def freq_table(dataset, index):\n",
    "    table = {}\n",
    "    total = 0\n",
    "    \n",
    "    for row in dataset:\n",
    "        total += 1\n",
    "        value = row[index]\n",
    "        if value in table:\n",
    "            table[value] += 1\n",
    "        else:\n",
    "            table[value] = 1\n",
    "    \n",
    "    percentageTable = {}\n",
    "    \n",
    "    for key in table:\n",
    "        percentage = (table[key] / total) * 100\n",
    "        percentageTable[key] = percentage\n",
    "        \n",
    "    return percentageTable\n",
    "\n",
    "def display_table(dataset, index):\n",
    "    table = freq_table(dataset, index)\n",
    "    table_display = []\n",
    "    for key in table:\n",
    "        temp = (table[key], key)\n",
    "        table_display.append(temp)\n",
    "    \n",
    "    table_sorted = sorted(table_display, reverse = True)\n",
    "    for entry in table_sorted:\n",
    "        print(entry[1], ': ', entry[0])"
   ]
  },
  {
   "cell_type": "code",
   "execution_count": 33,
   "metadata": {},
   "outputs": [
    {
     "name": "stdout",
     "output_type": "stream",
     "text": [
      "FAMILY :  18.907942238267147\n",
      "GAME :  9.724729241877256\n",
      "TOOLS :  8.461191335740072\n",
      "BUSINESS :  4.591606498194946\n",
      "LIFESTYLE :  3.9034296028880866\n",
      "PRODUCTIVITY :  3.892148014440433\n",
      "FINANCE :  3.7003610108303246\n",
      "MEDICAL :  3.531137184115524\n",
      "SPORTS :  3.395758122743682\n",
      "PERSONALIZATION :  3.3167870036101084\n",
      "COMMUNICATION :  3.2378158844765346\n",
      "HEALTH_AND_FITNESS :  3.0798736462093865\n",
      "PHOTOGRAPHY :  2.944494584837545\n",
      "NEWS_AND_MAGAZINES :  2.7978339350180503\n",
      "SOCIAL :  2.6624548736462095\n",
      "TRAVEL_AND_LOCAL :  2.33528880866426\n",
      "SHOPPING :  2.2450361010830324\n",
      "BOOKS_AND_REFERENCE :  2.1435018050541514\n",
      "DATING :  1.861462093862816\n",
      "VIDEO_PLAYERS :  1.7937725631768955\n",
      "MAPS_AND_NAVIGATION :  1.3989169675090252\n",
      "FOOD_AND_DRINK :  1.2409747292418771\n",
      "EDUCATION :  1.1620036101083033\n",
      "ENTERTAINMENT :  0.9589350180505415\n",
      "LIBRARIES_AND_DEMO :  0.9363718411552346\n",
      "AUTO_AND_VEHICLES :  0.9250902527075812\n",
      "HOUSE_AND_HOME :  0.8235559566787004\n",
      "WEATHER :  0.8009927797833934\n",
      "EVENTS :  0.7107400722021661\n",
      "PARENTING :  0.6543321299638989\n",
      "ART_AND_DESIGN :  0.6430505415162455\n",
      "COMICS :  0.6204873646209386\n",
      "BEAUTY :  0.5979241877256317\n"
     ]
    }
   ],
   "source": [
    "display_table(android_free_app, 1)"
   ]
  },
  {
   "cell_type": "markdown",
   "metadata": {},
   "source": [
    "Most Popular Apps by Genre on the App Store"
   ]
  },
  {
   "cell_type": "code",
   "execution_count": null,
   "metadata": {},
   "outputs": [],
   "source": []
  }
 ],
 "metadata": {
  "kernelspec": {
   "display_name": "Python 3",
   "language": "python",
   "name": "python3"
  },
  "language_info": {
   "codemirror_mode": {
    "name": "ipython",
    "version": 3
   },
   "file_extension": ".py",
   "mimetype": "text/x-python",
   "name": "python",
   "nbconvert_exporter": "python",
   "pygments_lexer": "ipython3",
   "version": "3.6.9"
  }
 },
 "nbformat": 4,
 "nbformat_minor": 2
}
